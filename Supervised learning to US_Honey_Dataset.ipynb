{
 "cells": [
  {
   "cell_type": "code",
   "execution_count": null,
   "id": "5f878e37",
   "metadata": {},
   "outputs": [],
   "source": [
    "import pandas as pd \n",
    "import numpy as np \n",
    "import matplotlib.pyplot as plt\n",
    "import seaborn as sns\n",
    "from sklearn.linear_model import LinearRegression\n",
    "from sklearn.model_selection import train_test_split\n",
    "from sklearn.preprocessing import StandardScaler\n",
    "from sklearn.linear_model import LogisticRegression\n",
    "from matplotlib.colors import ListedColormap\n"
   ]
  },
  {
   "cell_type": "code",
   "execution_count": null,
   "id": "3667fd85",
   "metadata": {},
   "outputs": [],
   "source": [
    "data=pd.read_csv(\"US_honey_dataset_updated.csv\")\n",
    "data"
   ]
  },
  {
   "cell_type": "code",
   "execution_count": null,
   "id": "cd679595",
   "metadata": {},
   "outputs": [],
   "source": [
    "# Create a Linear Regression model and fit it to training data\n",
    "model = LinearRegression()\n",
    "model.fit(data[['colonies_number','yield_per_colony']],data.production)"
   ]
  },
  {
   "cell_type": "code",
   "execution_count": null,
   "id": "341ae56c",
   "metadata": {},
   "outputs": [],
   "source": [
    "model.coef_"
   ]
  },
  {
   "cell_type": "code",
   "execution_count": null,
   "id": "0c0ad6a0",
   "metadata": {},
   "outputs": [],
   "source": [
    "model.intercept_"
   ]
  },
  {
   "cell_type": "code",
   "execution_count": null,
   "id": "c7139713",
   "metadata": {},
   "outputs": [],
   "source": [
    "y_new =model.coef_[0]*1500 + model.coef_[1]*48 + model.intercept_"
   ]
  },
  {
   "cell_type": "code",
   "execution_count": null,
   "id": "7d104e7b",
   "metadata": {},
   "outputs": [],
   "source": [
    "y_new"
   ]
  },
  {
   "cell_type": "code",
   "execution_count": null,
   "id": "e883e2a4",
   "metadata": {},
   "outputs": [],
   "source": [
    "plt.scatter(data.production,data.colonies_number)\n",
    "plt.xlabel('Production')\n",
    "plt.ylabel('Colonies Number')"
   ]
  },
  {
   "cell_type": "code",
   "execution_count": null,
   "id": "b8034b89",
   "metadata": {},
   "outputs": [],
   "source": [
    "sns.regplot(x=data['production'], y=data['colonies_number'])"
   ]
  },
  {
   "cell_type": "code",
   "execution_count": null,
   "id": "bf075a2f",
   "metadata": {},
   "outputs": [],
   "source": [
    "pip install scikit-learn"
   ]
  },
  {
   "cell_type": "code",
   "execution_count": null,
   "id": "fa5244fb",
   "metadata": {},
   "outputs": [],
   "source": [
    "#Logistic Regression\n",
    "# Want to predict whether \"yield_per_colony\" is above or below a certain threshold\n",
    "X = data[['colonies_number', 'stocks', 'average_price']]\n",
    "y = data['yield_per_colony'] > 60"
   ]
  },
  {
   "cell_type": "code",
   "execution_count": null,
   "id": "caa3bd6e",
   "metadata": {},
   "outputs": [],
   "source": [
    "#Split your data into a training set and a testing set to evaluate the model\n",
    "X_train, X_test, y_train, y_test = train_test_split(X, y, test_size=0.2, random_state=42)"
   ]
  },
  {
   "cell_type": "code",
   "execution_count": null,
   "id": "2124e702",
   "metadata": {},
   "outputs": [],
   "source": [
    "scaler = StandardScaler()\n",
    "X_train = scaler.fit_transform(X_train)\n",
    "X_test = scaler.transform(X_test)"
   ]
  },
  {
   "cell_type": "code",
   "execution_count": null,
   "id": "78550979",
   "metadata": {},
   "outputs": [],
   "source": [
    "#Create a logistic regression model and fit it to training data\n",
    "model = LogisticRegression()\n",
    "model.fit(X_train, y_train)"
   ]
  },
  {
   "cell_type": "code",
   "execution_count": null,
   "id": "d0707c2d",
   "metadata": {},
   "outputs": [],
   "source": [
    "accuracy = model.score(X_test, y_test)\n",
    "print(f\"Accuracy: {accuracy * 100:.2f}%\")"
   ]
  },
  {
   "cell_type": "code",
   "execution_count": null,
   "id": "f6984c17",
   "metadata": {},
   "outputs": [],
   "source": [
    "# creates a list of accuracies with the same length as your dataset. This will create a horizontal line on the plot at the accuracy value.\n",
    "plt.scatter(data.yield_per_colony,[accuracy] * len(data))\n",
    "plt.xlabel('Yield per Colony')\n",
    "plt.ylabel('Accuracy')"
   ]
  },
  {
   "cell_type": "code",
   "execution_count": null,
   "id": "896ee1bc",
   "metadata": {},
   "outputs": [],
   "source": []
  }
 ],
 "metadata": {
  "kernelspec": {
   "display_name": "Python 3 (ipykernel)",
   "language": "python",
   "name": "python3"
  },
  "language_info": {
   "codemirror_mode": {
    "name": "ipython",
    "version": 3
   },
   "file_extension": ".py",
   "mimetype": "text/x-python",
   "name": "python",
   "nbconvert_exporter": "python",
   "pygments_lexer": "ipython3",
   "version": "3.11.4"
  }
 },
 "nbformat": 4,
 "nbformat_minor": 5
}
